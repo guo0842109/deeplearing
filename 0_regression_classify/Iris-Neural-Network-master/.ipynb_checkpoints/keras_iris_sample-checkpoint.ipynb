{
 "cells": [
  {
   "cell_type": "markdown",
   "metadata": {},
   "source": [
    "## Iris flower Sample"
   ]
  },
  {
   "cell_type": "markdown",
   "metadata": {},
   "source": [
    "In this tutorial, you will discover how you can use Keras to develop and evaluate neural network models for multi-class classification problems.\n",
    "\n",
    "After completing this step-by-step tutorial, you will know:\n",
    "\n",
    "- How to load data from CSV and make it available to Keras.\n",
    "- How to prepare multi-class classification data for modeling with neural networks.\n",
    "- How to evaluate Keras neural network models with scikit-learn."
   ]
  },
  {
   "cell_type": "markdown",
   "metadata": {},
   "source": [
    "## Step 1. Import Classes and Functions\n",
    "\n",
    "This includes both the functionality we require from Keras, but also data loading from pandas as well as data preparation and model evaluation from scikit-learn."
   ]
  },
  {
   "cell_type": "code",
   "execution_count": null,
   "metadata": {},
   "outputs": [],
   "source": [
    "import numpy as np\n",
    "from sklearn.model_selection import train_test_split\n",
    "from keras.models import Sequential\n",
    "from keras.layers.core import Dense, Activation\n",
    "from keras.utils import np_utils\n",
    "import pandas as pd"
   ]
  },
  {
   "cell_type": "markdown",
   "metadata": {},
   "source": [
    "## Step 2. Load The Dataset\n",
    "\n",
    "The dataset can be loaded directly. Because the output variable contains strings, it is easiest to load the data using pandas. We can then split the attributes (columns) into input variables (X) and output variables (Y)."
   ]
  },
  {
   "cell_type": "code",
   "execution_count": null,
   "metadata": {},
   "outputs": [],
   "source": [
    "# Loading the dataset\n",
    "dataset = pd.read_csv('Iris_Dataset.csv')\n",
    "dataset = pd.get_dummies(dataset, columns=['Species']) #Â One Hot Encoding\n",
    "values = list(dataset.columns.values)\n",
    "\n",
    "y = dataset[values[-3:]]\n",
    "y = np.array(y, dtype='float32')\n",
    "X = dataset[values[1:-3]]\n",
    "X = np.array(X, dtype='float32')\n",
    "\n",
    "X_train,X_test,y_train,y_test=train_test_split(X,y,train_size=0.5,random_state=1)\n",
    "\n",
    "print(\"shape\")\n",
    "print(X_train.shape)"
   ]
  },
  {
   "cell_type": "markdown",
   "metadata": {},
   "source": [
    "## Step 3. Define The Neural Network Model \n",
    "\n",
    "The network topology of this simple one-layer neural network can be summarized as:\n",
    "    \n",
    "    4 inputs -> [8 hidden nodes] -> 3 outputs"
   ]
  },
  {
   "cell_type": "code",
   "execution_count": null,
   "metadata": {},
   "outputs": [],
   "source": [
    "model=Sequential()\n",
    "model.add(Dense(16,input_shape=(4,)))\n",
    "model.add(Activation(\"sigmoid\"))\n",
    "model.add(Dense(3))\n",
    "model.add(Activation(\"softmax\"))\n",
    "model.compile(optimizer=\"sgd\",loss=\"categorical_crossentropy\",metrics=[\"accuracy\"])\n",
    "model.fit(X_train,y_train,nb_epoch=100,batch_size=1,verbose=1)"
   ]
  },
  {
   "cell_type": "markdown",
   "metadata": {},
   "source": [
    "## Step 4. Evaluate The Model"
   ]
  },
  {
   "cell_type": "code",
   "execution_count": null,
   "metadata": {},
   "outputs": [],
   "source": [
    "loss, accuracy = model.evaluate(X_test, y_test, verbose=1)\n",
    "print(\"Accuracy = {:.2f}\".format(accuracy))"
   ]
  },
  {
   "cell_type": "markdown",
   "metadata": {},
   "source": [
    "## Summary\n",
    "\n",
    "In this post you discovered how to develop and evaluate a neural network using the Keras Python library for deep learning.\n",
    "\n",
    "By completing this tutorial, you learned:\n",
    "\n",
    "How to load data and make it available to Keras.\n",
    "How to prepare multi-class classification data for modeling using one hot encoding.\n",
    "How to use Keras neural network models with scikit-learn.\n",
    "How to define a neural network using Keras for multi-class classification.\n",
    "How to evaluate a Keras neural network model using scikit-learn with k-fold cross validation"
   ]
  },
  {
   "cell_type": "code",
   "execution_count": null,
   "metadata": {},
   "outputs": [],
   "source": []
  }
 ],
 "metadata": {
  "kernelspec": {
   "display_name": "Python 3",
   "language": "python",
   "name": "python3"
  },
  "language_info": {
   "codemirror_mode": {
    "name": "ipython",
    "version": 3
   },
   "file_extension": ".py",
   "mimetype": "text/x-python",
   "name": "python",
   "nbconvert_exporter": "python",
   "pygments_lexer": "ipython3",
   "version": "3.6.4"
  }
 },
 "nbformat": 4,
 "nbformat_minor": 2
}
