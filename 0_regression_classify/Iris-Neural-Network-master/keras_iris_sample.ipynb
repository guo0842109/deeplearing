{
 "cells": [
  {
   "cell_type": "markdown",
   "metadata": {},
   "source": [
    "## Iris flower Sample"
   ]
  },
  {
   "cell_type": "markdown",
   "metadata": {},
   "source": [
    "In this tutorial, you will discover how you can use Keras to develop and evaluate neural network models for multi-class classification problems.\n",
    "\n",
    "After completing this step-by-step tutorial, you will know:\n",
    "\n",
    "- How to load data from CSV and make it available to Keras.\n",
    "- How to prepare multi-class classification data for modeling with neural networks.\n",
    "- How to evaluate Keras neural network models with scikit-learn."
   ]
  },
  {
   "cell_type": "markdown",
   "metadata": {},
   "source": [
    "## Step 1. Import Classes and Functions\n",
    "\n",
    "This includes both the functionality we require from Keras, but also data loading from pandas as well as data preparation and model evaluation from scikit-learn."
   ]
  },
  {
   "cell_type": "code",
   "execution_count": 1,
   "metadata": {},
   "outputs": [
    {
     "name": "stderr",
     "output_type": "stream",
     "text": [
      "Using TensorFlow backend.\n"
     ]
    }
   ],
   "source": [
    "import numpy as np\n",
    "from sklearn.model_selection import train_test_split\n",
    "from keras.models import Sequential\n",
    "from keras.layers.core import Dense, Activation\n",
    "from keras.utils import np_utils\n",
    "import pandas as pd"
   ]
  },
  {
   "cell_type": "markdown",
   "metadata": {},
   "source": [
    "## Step 2. Load The Dataset\n",
    "\n",
    "The dataset can be loaded directly. Because the output variable contains strings, it is easiest to load the data using pandas. We can then split the attributes (columns) into input variables (X) and output variables (Y)."
   ]
  },
  {
   "cell_type": "code",
   "execution_count": 2,
   "metadata": {},
   "outputs": [
    {
     "name": "stdout",
     "output_type": "stream",
     "text": [
      "shape\n",
      "(75, 4)\n"
     ]
    },
    {
     "name": "stderr",
     "output_type": "stream",
     "text": [
      "C:\\Users\\lei\\Anaconda3\\envs\\tensorflow_sample\\lib\\site-packages\\sklearn\\model_selection\\_split.py:2179: FutureWarning: From version 0.21, test_size will always complement train_size unless both are specified.\n",
      "  FutureWarning)\n"
     ]
    }
   ],
   "source": [
    "# Loading the dataset\n",
    "dataset = pd.read_csv('Iris_Dataset.csv')\n",
    "dataset = pd.get_dummies(dataset, columns=['Species']) #Â One Hot Encoding\n",
    "values = list(dataset.columns.values)\n",
    "\n",
    "y = dataset[values[-3:]]\n",
    "y = np.array(y, dtype='float32')\n",
    "X = dataset[values[1:-3]]\n",
    "X = np.array(X, dtype='float32')\n",
    "\n",
    "X_train,X_test,y_train,y_test=train_test_split(X,y,train_size=0.5,random_state=1)\n",
    "\n",
    "print(\"shape\")\n",
    "print(X_train.shape)"
   ]
  },
  {
   "cell_type": "markdown",
   "metadata": {},
   "source": [
    "## Step 3. Define The Neural Network Model \n",
    "\n",
    "The network topology of this simple one-layer neural network can be summarized as:\n",
    "    \n",
    "    4 inputs -> [8 hidden nodes] -> 3 outputs"
   ]
  },
  {
   "cell_type": "code",
   "execution_count": 3,
   "metadata": {},
   "outputs": [
    {
     "name": "stderr",
     "output_type": "stream",
     "text": [
      "C:\\Users\\lei\\Anaconda3\\envs\\tensorflow_sample\\lib\\site-packages\\ipykernel_launcher.py:7: UserWarning: The `nb_epoch` argument in `fit` has been renamed `epochs`.\n",
      "  import sys\n"
     ]
    },
    {
     "name": "stdout",
     "output_type": "stream",
     "text": [
      "Epoch 1/100\n",
      "75/75 [==============================] - 0s 2ms/step - loss: 1.0824 - acc: 0.2933\n",
      "Epoch 2/100\n",
      "75/75 [==============================] - 0s 808us/step - loss: 0.9719 - acc: 0.5067\n",
      "Epoch 3/100\n",
      "75/75 [==============================] - 0s 627us/step - loss: 0.8881 - acc: 0.7200\n",
      "Epoch 4/100\n",
      "75/75 [==============================] - 0s 764us/step - loss: 0.8265 - acc: 0.6933\n",
      "Epoch 5/100\n",
      "75/75 [==============================] - 0s 828us/step - loss: 0.7764 - acc: 0.7200\n",
      "Epoch 6/100\n",
      "75/75 [==============================] - 0s 580us/step - loss: 0.7330 - acc: 0.7200\n",
      "Epoch 7/100\n",
      "75/75 [==============================] - 0s 780us/step - loss: 0.6951 - acc: 0.7600\n",
      "Epoch 8/100\n",
      "75/75 [==============================] - 0s 658us/step - loss: 0.6609 - acc: 0.7600\n",
      "Epoch 9/100\n",
      "75/75 [==============================] - 0s 628us/step - loss: 0.6315 - acc: 0.7467\n",
      "Epoch 10/100\n",
      "75/75 [==============================] - 0s 640us/step - loss: 0.6085 - acc: 0.8000\n",
      "Epoch 11/100\n",
      "75/75 [==============================] - 0s 718us/step - loss: 0.5896 - acc: 0.7867\n",
      "Epoch 12/100\n",
      "75/75 [==============================] - 0s 555us/step - loss: 0.5671 - acc: 0.8400\n",
      "Epoch 13/100\n",
      "75/75 [==============================] - 0s 742us/step - loss: 0.5515 - acc: 0.7600\n",
      "Epoch 14/100\n",
      "75/75 [==============================] - 0s 542us/step - loss: 0.5328 - acc: 0.7733\n",
      "Epoch 15/100\n",
      "75/75 [==============================] - 0s 520us/step - loss: 0.5202 - acc: 0.8000\n",
      "Epoch 16/100\n",
      "75/75 [==============================] - 0s 423us/step - loss: 0.5132 - acc: 0.9067\n",
      "Epoch 17/100\n",
      "75/75 [==============================] - 0s 591us/step - loss: 0.5003 - acc: 0.8533\n",
      "Epoch 18/100\n",
      "75/75 [==============================] - 0s 610us/step - loss: 0.4891 - acc: 0.8800\n",
      "Epoch 19/100\n",
      "75/75 [==============================] - 0s 986us/step - loss: 0.4786 - acc: 0.8667\n",
      "Epoch 20/100\n",
      "75/75 [==============================] - 0s 968us/step - loss: 0.4716 - acc: 0.8933\n",
      "Epoch 21/100\n",
      "75/75 [==============================] - 0s 847us/step - loss: 0.4601 - acc: 0.9067\n",
      "Epoch 22/100\n",
      "75/75 [==============================] - 0s 919us/step - loss: 0.4534 - acc: 0.9200\n",
      "Epoch 23/100\n",
      "75/75 [==============================] - 0s 880us/step - loss: 0.4438 - acc: 0.9067 0s - loss: 0.4348 - acc: 0.964\n",
      "Epoch 24/100\n",
      "75/75 [==============================] - 0s 664us/step - loss: 0.4380 - acc: 0.9067\n",
      "Epoch 25/100\n",
      "75/75 [==============================] - 0s 600us/step - loss: 0.4307 - acc: 0.9200\n",
      "Epoch 26/100\n",
      "75/75 [==============================] - 0s 648us/step - loss: 0.4242 - acc: 0.9333\n",
      "Epoch 27/100\n",
      "75/75 [==============================] - 0s 602us/step - loss: 0.4153 - acc: 0.9467\n",
      "Epoch 28/100\n",
      "75/75 [==============================] - 0s 580us/step - loss: 0.4084 - acc: 0.9067\n",
      "Epoch 29/100\n",
      "75/75 [==============================] - 0s 635us/step - loss: 0.3994 - acc: 0.8800\n",
      "Epoch 30/100\n",
      "75/75 [==============================] - 0s 414us/step - loss: 0.3938 - acc: 0.9333\n",
      "Epoch 31/100\n",
      "75/75 [==============================] - 0s 676us/step - loss: 0.3907 - acc: 0.9600\n",
      "Epoch 32/100\n",
      "75/75 [==============================] - 0s 734us/step - loss: 0.3777 - acc: 0.9200\n",
      "Epoch 33/100\n",
      "75/75 [==============================] - 0s 629us/step - loss: 0.3800 - acc: 0.9200\n",
      "Epoch 34/100\n",
      "75/75 [==============================] - 0s 422us/step - loss: 0.3669 - acc: 0.9333\n",
      "Epoch 35/100\n",
      "75/75 [==============================] - 0s 811us/step - loss: 0.3643 - acc: 0.9733\n",
      "Epoch 36/100\n",
      "75/75 [==============================] - 0s 417us/step - loss: 0.3524 - acc: 0.9333\n",
      "Epoch 37/100\n",
      "75/75 [==============================] - 0s 624us/step - loss: 0.3569 - acc: 0.9467\n",
      "Epoch 38/100\n",
      "75/75 [==============================] - 0s 917us/step - loss: 0.3460 - acc: 0.9467\n",
      "Epoch 39/100\n",
      "75/75 [==============================] - 0s 654us/step - loss: 0.3390 - acc: 0.9600\n",
      "Epoch 40/100\n",
      "75/75 [==============================] - 0s 969us/step - loss: 0.3341 - acc: 0.9467\n",
      "Epoch 41/100\n",
      "75/75 [==============================] - 0s 778us/step - loss: 0.3269 - acc: 0.9733\n",
      "Epoch 42/100\n",
      "75/75 [==============================] - 0s 721us/step - loss: 0.3253 - acc: 0.9467\n",
      "Epoch 43/100\n",
      "75/75 [==============================] - 0s 453us/step - loss: 0.3183 - acc: 0.9467\n",
      "Epoch 44/100\n",
      "75/75 [==============================] - 0s 558us/step - loss: 0.2946 - acc: 0.9467\n",
      "Epoch 45/100\n",
      "75/75 [==============================] - 0s 660us/step - loss: 0.3126 - acc: 0.9600\n",
      "Epoch 46/100\n",
      "75/75 [==============================] - 0s 501us/step - loss: 0.2962 - acc: 0.9600\n",
      "Epoch 47/100\n",
      "75/75 [==============================] - 0s 412us/step - loss: 0.2978 - acc: 0.9467\n",
      "Epoch 48/100\n",
      "75/75 [==============================] - 0s 952us/step - loss: 0.2921 - acc: 0.9333\n",
      "Epoch 49/100\n",
      "75/75 [==============================] - 0s 892us/step - loss: 0.2872 - acc: 0.9733\n",
      "Epoch 50/100\n",
      "75/75 [==============================] - 0s 946us/step - loss: 0.2696 - acc: 0.9467\n",
      "Epoch 51/100\n",
      "75/75 [==============================] - 0s 900us/step - loss: 0.2746 - acc: 0.9733\n",
      "Epoch 52/100\n",
      "75/75 [==============================] - 0s 504us/step - loss: 0.2714 - acc: 0.9600\n",
      "Epoch 53/100\n",
      "75/75 [==============================] - 0s 626us/step - loss: 0.2699 - acc: 0.9467\n",
      "Epoch 54/100\n",
      "75/75 [==============================] - 0s 426us/step - loss: 0.2615 - acc: 0.9467\n",
      "Epoch 55/100\n",
      "75/75 [==============================] - 0s 683us/step - loss: 0.2613 - acc: 0.9467\n",
      "Epoch 56/100\n",
      "75/75 [==============================] - 0s 663us/step - loss: 0.2565 - acc: 0.9600\n",
      "Epoch 57/100\n",
      "75/75 [==============================] - 0s 612us/step - loss: 0.2545 - acc: 0.9467\n",
      "Epoch 58/100\n",
      "75/75 [==============================] - 0s 510us/step - loss: 0.2417 - acc: 0.9733\n",
      "Epoch 59/100\n",
      "75/75 [==============================] - 0s 719us/step - loss: 0.2445 - acc: 0.9733\n",
      "Epoch 60/100\n",
      "75/75 [==============================] - 0s 628us/step - loss: 0.2429 - acc: 0.9467\n",
      "Epoch 61/100\n",
      "75/75 [==============================] - 0s 468us/step - loss: 0.2318 - acc: 0.9467\n",
      "Epoch 62/100\n",
      "75/75 [==============================] - 0s 618us/step - loss: 0.2357 - acc: 0.9200\n",
      "Epoch 63/100\n",
      "75/75 [==============================] - 0s 612us/step - loss: 0.2289 - acc: 0.9467\n",
      "Epoch 64/100\n",
      "75/75 [==============================] - 0s 540us/step - loss: 0.2268 - acc: 0.9733\n",
      "Epoch 65/100\n",
      "75/75 [==============================] - 0s 617us/step - loss: 0.2244 - acc: 0.9600\n",
      "Epoch 66/100\n",
      "75/75 [==============================] - 0s 430us/step - loss: 0.2221 - acc: 0.9467\n",
      "Epoch 67/100\n",
      "75/75 [==============================] - 0s 542us/step - loss: 0.2194 - acc: 0.9600\n",
      "Epoch 68/100\n",
      "75/75 [==============================] - 0s 504us/step - loss: 0.2140 - acc: 0.9733\n",
      "Epoch 69/100\n",
      "75/75 [==============================] - 0s 608us/step - loss: 0.2087 - acc: 0.9733\n",
      "Epoch 70/100\n",
      "75/75 [==============================] - 0s 601us/step - loss: 0.2017 - acc: 0.9600\n",
      "Epoch 71/100\n",
      "75/75 [==============================] - 0s 496us/step - loss: 0.2000 - acc: 0.9600\n",
      "Epoch 72/100\n",
      "75/75 [==============================] - 0s 549us/step - loss: 0.2030 - acc: 0.9600\n",
      "Epoch 73/100\n",
      "75/75 [==============================] - 0s 712us/step - loss: 0.1866 - acc: 0.9733\n",
      "Epoch 74/100\n",
      "75/75 [==============================] - 0s 530us/step - loss: 0.2069 - acc: 0.9333\n",
      "Epoch 75/100\n",
      "75/75 [==============================] - 0s 484us/step - loss: 0.1820 - acc: 0.9600\n",
      "Epoch 76/100\n",
      "75/75 [==============================] - 0s 621us/step - loss: 0.1882 - acc: 0.9467\n",
      "Epoch 77/100\n",
      "75/75 [==============================] - 0s 572us/step - loss: 0.1927 - acc: 0.9600\n",
      "Epoch 78/100\n",
      "75/75 [==============================] - 0s 431us/step - loss: 0.1916 - acc: 0.9333\n",
      "Epoch 79/100\n",
      "75/75 [==============================] - 0s 553us/step - loss: 0.1866 - acc: 0.9467\n",
      "Epoch 80/100\n",
      "75/75 [==============================] - 0s 631us/step - loss: 0.1818 - acc: 0.9733\n",
      "Epoch 81/100\n",
      "75/75 [==============================] - 0s 448us/step - loss: 0.1863 - acc: 0.9333\n",
      "Epoch 82/100\n",
      "75/75 [==============================] - 0s 432us/step - loss: 0.1779 - acc: 0.9600\n",
      "Epoch 83/100\n",
      "75/75 [==============================] - 0s 930us/step - loss: 0.1756 - acc: 0.9467\n",
      "Epoch 84/100\n",
      "75/75 [==============================] - 0s 579us/step - loss: 0.1795 - acc: 0.9467\n",
      "Epoch 85/100\n"
     ]
    },
    {
     "name": "stdout",
     "output_type": "stream",
     "text": [
      "75/75 [==============================] - 0s 534us/step - loss: 0.1781 - acc: 0.9600\n",
      "Epoch 86/100\n",
      "75/75 [==============================] - 0s 572us/step - loss: 0.1718 - acc: 0.9733\n",
      "Epoch 87/100\n",
      "75/75 [==============================] - 0s 420us/step - loss: 0.1633 - acc: 0.9600\n",
      "Epoch 88/100\n",
      "75/75 [==============================] - 0s 517us/step - loss: 0.1707 - acc: 0.9600\n",
      "Epoch 89/100\n",
      "75/75 [==============================] - 0s 349us/step - loss: 0.1745 - acc: 0.9467\n",
      "Epoch 90/100\n",
      "75/75 [==============================] - 0s 489us/step - loss: 0.1646 - acc: 0.9733\n",
      "Epoch 91/100\n",
      "75/75 [==============================] - 0s 516us/step - loss: 0.1642 - acc: 0.9600\n",
      "Epoch 92/100\n",
      "75/75 [==============================] - 0s 340us/step - loss: 0.1649 - acc: 0.9600\n",
      "Epoch 93/100\n",
      "75/75 [==============================] - 0s 707us/step - loss: 0.1599 - acc: 0.9733\n",
      "Epoch 94/100\n",
      "75/75 [==============================] - 0s 477us/step - loss: 0.1534 - acc: 0.9600\n",
      "Epoch 95/100\n",
      "75/75 [==============================] - 0s 345us/step - loss: 0.1593 - acc: 0.9600\n",
      "Epoch 96/100\n",
      "75/75 [==============================] - 0s 315us/step - loss: 0.1538 - acc: 0.9733\n",
      "Epoch 97/100\n",
      "75/75 [==============================] - 0s 302us/step - loss: 0.1616 - acc: 0.9600\n",
      "Epoch 98/100\n",
      "75/75 [==============================] - 0s 368us/step - loss: 0.1548 - acc: 0.9733\n",
      "Epoch 99/100\n",
      "75/75 [==============================] - 0s 487us/step - loss: 0.1534 - acc: 0.9733\n",
      "Epoch 100/100\n",
      "75/75 [==============================] - 0s 354us/step - loss: 0.1554 - acc: 0.9333\n"
     ]
    },
    {
     "data": {
      "text/plain": [
       "<keras.callbacks.History at 0x1f1303fd438>"
      ]
     },
     "execution_count": 3,
     "metadata": {},
     "output_type": "execute_result"
    }
   ],
   "source": [
    "model=Sequential()\n",
    "model.add(Dense(16,input_shape=(4,)))\n",
    "model.add(Activation(\"sigmoid\"))\n",
    "model.add(Dense(3))\n",
    "model.add(Activation(\"softmax\"))\n",
    "model.compile(optimizer=\"sgd\",loss=\"categorical_crossentropy\",metrics=[\"accuracy\"])\n",
    "model.fit(X_train,y_train,nb_epoch=100,batch_size=1,verbose=1)"
   ]
  },
  {
   "cell_type": "markdown",
   "metadata": {},
   "source": [
    "## Step 4. Evaluate The Model"
   ]
  },
  {
   "cell_type": "code",
   "execution_count": 4,
   "metadata": {},
   "outputs": [
    {
     "name": "stdout",
     "output_type": "stream",
     "text": [
      "75/75 [==============================] - 0s 412us/step\n",
      "Accuracy = 0.99\n"
     ]
    }
   ],
   "source": [
    "loss, accuracy = model.evaluate(X_test, y_test, verbose=1)\n",
    "print(\"Accuracy = {:.2f}\".format(accuracy))"
   ]
  },
  {
   "cell_type": "markdown",
   "metadata": {},
   "source": [
    "## Summary\n",
    "\n",
    "In this post you discovered how to develop and evaluate a neural network using the Keras Python library for deep learning.\n",
    "\n",
    "By completing this tutorial, you learned:\n",
    "\n",
    "How to load data and make it available to Keras.\n",
    "How to prepare multi-class classification data for modeling using one hot encoding.\n",
    "How to use Keras neural network models with scikit-learn.\n",
    "How to define a neural network using Keras for multi-class classification.\n",
    "How to evaluate a Keras neural network model using scikit-learn with k-fold cross validation"
   ]
  },
  {
   "cell_type": "code",
   "execution_count": null,
   "metadata": {},
   "outputs": [],
   "source": []
  }
 ],
 "metadata": {
  "kernelspec": {
   "display_name": "python(env):tensorflow_sample",
   "language": "python",
   "name": "tensorflow"
  },
  "language_info": {
   "codemirror_mode": {
    "name": "ipython",
    "version": 3
   },
   "file_extension": ".py",
   "mimetype": "text/x-python",
   "name": "python",
   "nbconvert_exporter": "python",
   "pygments_lexer": "ipython3",
   "version": "3.6.7"
  }
 },
 "nbformat": 4,
 "nbformat_minor": 2
}
